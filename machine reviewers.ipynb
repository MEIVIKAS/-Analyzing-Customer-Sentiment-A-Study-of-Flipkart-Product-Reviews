{
 "cells": [
  {
   "cell_type": "markdown",
   "metadata": {},
   "source": [
    "# Analyzing Customer Sentiment: A Study of Flipkart Product Reviews"
   ]
  },
  {
   "cell_type": "markdown",
   "metadata": {},
   "source": [
    "## ___________________________________________________________________________________ ##"
   ]
  },
  {
   "cell_type": "markdown",
   "metadata": {},
   "source": [
    "## Objective\n",
    "Analyze customer sentiment towards products on Flipkart, one of India’s largest e-commerce platforms.\n",
    "\n",
    "## Methodology\n",
    "1. Scrape product review data from Flipkart using the BeautifulSoup library.\n",
    "2. Perform sentiment analysis on the review text using the nltk library.\n",
    "3. Merge the sentiment analysis results with the scraped data to create a new data frame.\n",
    "4. Create visualizations and gain insights into customer sentiment using the VADER sentiment analysis tool.\n",
    "\n",
    "## Outcome\n",
    "Provide valuable insights into customer opinions and satisfaction with Flipkart products.\n"
   ]
  },
  {
   "cell_type": "code",
   "execution_count": 1,
   "metadata": {},
   "outputs": [],
   "source": [
    "#import Libraries\n",
    "import pandas as pd\n",
    "import numpy as np\n",
    "import matplotlib.pyplot as plt \n",
    "import seaborn as sns\n",
    "\n",
    "import nltk\n",
    "from nltk.sentiment import SentimentIntensityAnalyzer\n",
    "from tqdm.notebook import tqdm\n",
    "\n",
    "sia = SentimentIntensityAnalyzer()"
   ]
  },
  {
   "cell_type": "code",
   "execution_count": 2,
   "metadata": {},
   "outputs": [],
   "source": [
    "# Import necessary libraries\n",
    "from bs4 import BeautifulSoup\n",
    "import requests\n",
    "\n",
    "# Create a dictionary to store scraped data\n",
    "rep = { 'Star': [], 'Review': [], 'Comment': []}\n",
    "\n",
    "# Define the scraping function\n",
    "def scraping_review(link, page):\n",
    "    global rep  # To access the 'rep' dictionary defined outside the function\n",
    "    \n",
    "    # Loop through the specified number of pages to scrape data\n",
    "    for x in range(1, page + 1):\n",
    "        url = '{}&page={}'.format(link, x)  # Construct the URL for the current page\n",
    "        response = requests.get(url)  # Send a request to the URL\n",
    "        soup = BeautifulSoup(response.text, 'html.parser')  # Parse the HTML content using BeautifulSoup\n",
    "\n",
    "        # Extract the relevant sections from the page using class names\n",
    "        comment_cards = soup.find_all('div', class_=\"_1AtVbE col-12-12\")  # Comment section\n",
    "        review_cards = soup.find_all('div', class_=\"t-ZTKy\")  # Review section\n",
    "        star_cards = soup.find_all('div', class_=\"_3LWZlK _1BLPMq\")  # Star rating section\n",
    "\n",
    "        # Filter out None values from comment_cards to avoid errors\n",
    "        comment_cards = [comment for comment in comment_cards if comment.p is not None]\n",
    "\n",
    "        # Iterate through the extracted data and store it in the 'rep' dictionary\n",
    "        for comment, review, star in zip(comment_cards, review_cards, star_cards):\n",
    "            comment_text = comment.p.text  # Extract the comment text\n",
    "            review_text = review.div.div.text  # Extract the review text\n",
    "            star_text = star.text  # Extract the star rating text\n",
    "\n",
    "            # Append the extracted data to the corresponding lists in the 'rep' dictionary\n",
    "            rep['Star'].append(star_text)\n",
    "            rep['Review'].append(review_text)\n",
    "            rep['Comment'].append(comment_text)\n",
    "\n",
    "# The function 'scraping_review' can be called with the URL of the product page and the number of pages to scrape.\n",
    "# For example:\n",
    "# scraping_review('https://www.flipkart.com/product-page-link', 5)\n"
   ]
  },
  {
   "cell_type": "code",
   "execution_count": 3,
   "metadata": {},
   "outputs": [],
   "source": [
    "\n",
    "#scaping data from flipkart using function \n",
    "scraping_review('https://www.flipkart.com/casio-ct-s200rd-ks47a-digital-portable-keyboard/product-reviews/itmd83d3ddbb0114?pid=MKDFMQ8XXHJGYE68&lid=LSTMKDFMQ8XXHJGYE682MVA12&marketplace=FLIPKART',6)"
   ]
  },
  {
   "cell_type": "code",
   "execution_count": 4,
   "metadata": {},
   "outputs": [],
   "source": [
    "import pandas as pd\n",
    "\n",
    "# Create a DataFrame from the scraped data stored in the 'rep' dictionary\n",
    "df = pd.DataFrame(rep)\n",
    "\n",
    "# Generate a list of 'Id' values from 1 to the number of rows in the DataFrame\n",
    "id = []\n",
    "for x in range(1, len(df) + 1):\n",
    "    id.append(x)\n",
    "\n",
    "# Assign the 'Id' list as a new column in the DataFrame\n",
    "df = df.assign(Id=id)\n",
    "\n",
    "# Reorder the columns with the 'Id' column as the first column\n",
    "cols = df.columns.tolist()  # Get the list of column names\n",
    "cols = cols[-1:] + cols[:-1]  # Move the last column ('Id') to the front\n",
    "df = df[cols]  # Reorder the DataFrame based on the new column order\n",
    "\n",
    "# The DataFrame 'df' now contains the scraped data with a unique 'Id' assigned to each row."
   ]
  },
  {
   "cell_type": "code",
   "execution_count": 5,
   "metadata": {},
   "outputs": [
    {
     "data": {
      "text/html": [
       "<div>\n",
       "<style scoped>\n",
       "    .dataframe tbody tr th:only-of-type {\n",
       "        vertical-align: middle;\n",
       "    }\n",
       "\n",
       "    .dataframe tbody tr th {\n",
       "        vertical-align: top;\n",
       "    }\n",
       "\n",
       "    .dataframe thead th {\n",
       "        text-align: right;\n",
       "    }\n",
       "</style>\n",
       "<table border=\"1\" class=\"dataframe\">\n",
       "  <thead>\n",
       "    <tr style=\"text-align: right;\">\n",
       "      <th></th>\n",
       "      <th>Id</th>\n",
       "      <th>Star</th>\n",
       "      <th>Review</th>\n",
       "      <th>Comment</th>\n",
       "    </tr>\n",
       "  </thead>\n",
       "  <tbody>\n",
       "    <tr>\n",
       "      <th>0</th>\n",
       "      <td>1</td>\n",
       "      <td>5</td>\n",
       "      <td>So amazing and too good quality products</td>\n",
       "      <td>Terrific purchase</td>\n",
       "    </tr>\n",
       "    <tr>\n",
       "      <th>1</th>\n",
       "      <td>2</td>\n",
       "      <td>5</td>\n",
       "      <td>awesome keyboard with midi support and nice bu...</td>\n",
       "      <td>Terrific</td>\n",
       "    </tr>\n",
       "    <tr>\n",
       "      <th>2</th>\n",
       "      <td>3</td>\n",
       "      <td>5</td>\n",
       "      <td>I just got this product, very fast delivery. g...</td>\n",
       "      <td>Awesome</td>\n",
       "    </tr>\n",
       "    <tr>\n",
       "      <th>3</th>\n",
       "      <td>4</td>\n",
       "      <td>3</td>\n",
       "      <td>Sound quality is not that good, but if you use...</td>\n",
       "      <td>Just okay</td>\n",
       "    </tr>\n",
       "    <tr>\n",
       "      <th>4</th>\n",
       "      <td>5</td>\n",
       "      <td>5</td>\n",
       "      <td>Good product</td>\n",
       "      <td>Highly recommended</td>\n",
       "    </tr>\n",
       "  </tbody>\n",
       "</table>\n",
       "</div>"
      ],
      "text/plain": [
       "   Id Star                                             Review  \\\n",
       "0   1    5           So amazing and too good quality products   \n",
       "1   2    5  awesome keyboard with midi support and nice bu...   \n",
       "2   3    5  I just got this product, very fast delivery. g...   \n",
       "3   4    3  Sound quality is not that good, but if you use...   \n",
       "4   5    5                                       Good product   \n",
       "\n",
       "              Comment  \n",
       "0   Terrific purchase  \n",
       "1            Terrific  \n",
       "2             Awesome  \n",
       "3           Just okay  \n",
       "4  Highly recommended  "
      ]
     },
     "execution_count": 5,
     "metadata": {},
     "output_type": "execute_result"
    }
   ],
   "source": [
    "df.head()"
   ]
  },
  {
   "cell_type": "code",
   "execution_count": 6,
   "metadata": {},
   "outputs": [
    {
     "data": {
      "text/plain": [
       "(49, 4)"
      ]
     },
     "execution_count": 6,
     "metadata": {},
     "output_type": "execute_result"
    }
   ],
   "source": [
    "df.shape"
   ]
  },
  {
   "cell_type": "code",
   "execution_count": 7,
   "metadata": {},
   "outputs": [
    {
     "data": {
      "application/vnd.jupyter.widget-view+json": {
       "model_id": "d3f3869cee924586b3459c8635d19741",
       "version_major": 2,
       "version_minor": 0
      },
      "text/plain": [
       "  0%|          | 0/49 [00:00<?, ?it/s]"
      ]
     },
     "metadata": {},
     "output_type": "display_data"
    }
   ],
   "source": [
    "# Assuming 'sia' is a pre-initialized instance of the VADER SentimentIntensityAnalyzer class\n",
    "\n",
    "# Create an empty dictionary to store polarity scores\n",
    "res = {}\n",
    "\n",
    "# Iterate over each row in the DataFrame and calculate polarity scores\n",
    "for i, row in tqdm(df.iterrows(), total=len(df)):\n",
    "    text = row['Review']  # Get the review text from the 'Review' column\n",
    "    myid = row['Id']  # Get the 'Id' associated with the review\n",
    "    res[myid] = sia.polarity_scores(text)  # Calculate polarity scores and store them in the 'res' dictionary\n",
    "\n",
    "# The dictionary 'res' now contains the polarity scores for each review text, indexed by the review's 'Id'.\n"
   ]
  },
  {
   "cell_type": "code",
   "execution_count": 8,
   "metadata": {},
   "outputs": [
    {
     "data": {
      "text/html": [
       "<div>\n",
       "<style scoped>\n",
       "    .dataframe tbody tr th:only-of-type {\n",
       "        vertical-align: middle;\n",
       "    }\n",
       "\n",
       "    .dataframe tbody tr th {\n",
       "        vertical-align: top;\n",
       "    }\n",
       "\n",
       "    .dataframe thead th {\n",
       "        text-align: right;\n",
       "    }\n",
       "</style>\n",
       "<table border=\"1\" class=\"dataframe\">\n",
       "  <thead>\n",
       "    <tr style=\"text-align: right;\">\n",
       "      <th></th>\n",
       "      <th>neg</th>\n",
       "      <th>neu</th>\n",
       "      <th>pos</th>\n",
       "      <th>compound</th>\n",
       "    </tr>\n",
       "  </thead>\n",
       "  <tbody>\n",
       "    <tr>\n",
       "      <th>1</th>\n",
       "      <td>0.000</td>\n",
       "      <td>0.417</td>\n",
       "      <td>0.583</td>\n",
       "      <td>0.7902</td>\n",
       "    </tr>\n",
       "    <tr>\n",
       "      <th>2</th>\n",
       "      <td>0.054</td>\n",
       "      <td>0.616</td>\n",
       "      <td>0.330</td>\n",
       "      <td>0.9172</td>\n",
       "    </tr>\n",
       "    <tr>\n",
       "      <th>3</th>\n",
       "      <td>0.000</td>\n",
       "      <td>0.731</td>\n",
       "      <td>0.269</td>\n",
       "      <td>0.9274</td>\n",
       "    </tr>\n",
       "    <tr>\n",
       "      <th>4</th>\n",
       "      <td>0.085</td>\n",
       "      <td>0.645</td>\n",
       "      <td>0.270</td>\n",
       "      <td>0.5785</td>\n",
       "    </tr>\n",
       "    <tr>\n",
       "      <th>5</th>\n",
       "      <td>0.000</td>\n",
       "      <td>0.256</td>\n",
       "      <td>0.744</td>\n",
       "      <td>0.4404</td>\n",
       "    </tr>\n",
       "  </tbody>\n",
       "</table>\n",
       "</div>"
      ],
      "text/plain": [
       "     neg    neu    pos  compound\n",
       "1  0.000  0.417  0.583    0.7902\n",
       "2  0.054  0.616  0.330    0.9172\n",
       "3  0.000  0.731  0.269    0.9274\n",
       "4  0.085  0.645  0.270    0.5785\n",
       "5  0.000  0.256  0.744    0.4404"
      ]
     },
     "execution_count": 8,
     "metadata": {},
     "output_type": "execute_result"
    }
   ],
   "source": [
    "vaders = pd.DataFrame(res).T #transposing the dictionary \n",
    "vaders.head()"
   ]
  },
  {
   "cell_type": "code",
   "execution_count": 9,
   "metadata": {},
   "outputs": [],
   "source": [
    "\n",
    "vaders = vaders.reset_index().rename(columns={'index':'Id'}) #merging the Both Dataframe for analysis\n",
    "vaders = vaders.merge(df, how='left')"
   ]
  },
  {
   "cell_type": "code",
   "execution_count": 10,
   "metadata": {},
   "outputs": [
    {
     "data": {
      "text/html": [
       "<div>\n",
       "<style scoped>\n",
       "    .dataframe tbody tr th:only-of-type {\n",
       "        vertical-align: middle;\n",
       "    }\n",
       "\n",
       "    .dataframe tbody tr th {\n",
       "        vertical-align: top;\n",
       "    }\n",
       "\n",
       "    .dataframe thead th {\n",
       "        text-align: right;\n",
       "    }\n",
       "</style>\n",
       "<table border=\"1\" class=\"dataframe\">\n",
       "  <thead>\n",
       "    <tr style=\"text-align: right;\">\n",
       "      <th></th>\n",
       "      <th>Id</th>\n",
       "      <th>neg</th>\n",
       "      <th>neu</th>\n",
       "      <th>pos</th>\n",
       "      <th>compound</th>\n",
       "      <th>Star</th>\n",
       "      <th>Review</th>\n",
       "      <th>Comment</th>\n",
       "    </tr>\n",
       "  </thead>\n",
       "  <tbody>\n",
       "    <tr>\n",
       "      <th>0</th>\n",
       "      <td>1</td>\n",
       "      <td>0.000</td>\n",
       "      <td>0.417</td>\n",
       "      <td>0.583</td>\n",
       "      <td>0.7902</td>\n",
       "      <td>5</td>\n",
       "      <td>So amazing and too good quality products</td>\n",
       "      <td>Terrific purchase</td>\n",
       "    </tr>\n",
       "    <tr>\n",
       "      <th>1</th>\n",
       "      <td>2</td>\n",
       "      <td>0.054</td>\n",
       "      <td>0.616</td>\n",
       "      <td>0.330</td>\n",
       "      <td>0.9172</td>\n",
       "      <td>5</td>\n",
       "      <td>awesome keyboard with midi support and nice bu...</td>\n",
       "      <td>Terrific</td>\n",
       "    </tr>\n",
       "    <tr>\n",
       "      <th>2</th>\n",
       "      <td>3</td>\n",
       "      <td>0.000</td>\n",
       "      <td>0.731</td>\n",
       "      <td>0.269</td>\n",
       "      <td>0.9274</td>\n",
       "      <td>5</td>\n",
       "      <td>I just got this product, very fast delivery. g...</td>\n",
       "      <td>Awesome</td>\n",
       "    </tr>\n",
       "    <tr>\n",
       "      <th>3</th>\n",
       "      <td>4</td>\n",
       "      <td>0.085</td>\n",
       "      <td>0.645</td>\n",
       "      <td>0.270</td>\n",
       "      <td>0.5785</td>\n",
       "      <td>3</td>\n",
       "      <td>Sound quality is not that good, but if you use...</td>\n",
       "      <td>Just okay</td>\n",
       "    </tr>\n",
       "    <tr>\n",
       "      <th>4</th>\n",
       "      <td>5</td>\n",
       "      <td>0.000</td>\n",
       "      <td>0.256</td>\n",
       "      <td>0.744</td>\n",
       "      <td>0.4404</td>\n",
       "      <td>5</td>\n",
       "      <td>Good product</td>\n",
       "      <td>Highly recommended</td>\n",
       "    </tr>\n",
       "  </tbody>\n",
       "</table>\n",
       "</div>"
      ],
      "text/plain": [
       "   Id    neg    neu    pos  compound Star  \\\n",
       "0   1  0.000  0.417  0.583    0.7902    5   \n",
       "1   2  0.054  0.616  0.330    0.9172    5   \n",
       "2   3  0.000  0.731  0.269    0.9274    5   \n",
       "3   4  0.085  0.645  0.270    0.5785    3   \n",
       "4   5  0.000  0.256  0.744    0.4404    5   \n",
       "\n",
       "                                              Review             Comment  \n",
       "0           So amazing and too good quality products   Terrific purchase  \n",
       "1  awesome keyboard with midi support and nice bu...            Terrific  \n",
       "2  I just got this product, very fast delivery. g...             Awesome  \n",
       "3  Sound quality is not that good, but if you use...           Just okay  \n",
       "4                                       Good product  Highly recommended  "
      ]
     },
     "execution_count": 10,
     "metadata": {},
     "output_type": "execute_result"
    }
   ],
   "source": [
    "vaders.head()"
   ]
  },
  {
   "cell_type": "markdown",
   "metadata": {},
   "source": [
    "# Categorical univariate analysis "
   ]
  },
  {
   "cell_type": "code",
   "execution_count": 11,
   "metadata": {},
   "outputs": [
    {
     "data": {
      "image/png": "[encoded data removed]",
      "text/plain": [
       "<Figure size 1500x300 with 3 Axes>"
      ]
     },
     "metadata": {},
     "output_type": "display_data"
    }
   ],
   "source": [
    "# Assuming 'vaders' is the DataFrame containing the sentiment analysis results,\n",
    "# with columns 'Star', 'pos' (positive sentiment score), 'neg' (negative sentiment score), and 'neu' (neutral sentiment score)\n",
    "\n",
    "# Create a figure with three subplots, arranged horizontally\n",
    "fig, axs = plt.subplots(1, 3, figsize=(15, 3))\n",
    "\n",
    "# Plot the first subplot: Positive sentiment scores vs. Star ratings\n",
    "sns.barplot(data=vaders, x='Star', y='pos', ax=axs[0])\n",
    "axs[0].set_title('Positive')\n",
    "\n",
    "# Plot the second subplot: Negative sentiment scores vs. Star ratings\n",
    "sns.barplot(data=vaders, x='Star', y='neg', ax=axs[1])\n",
    "axs[1].set_title('Negative')\n",
    "\n",
    "# Plot the third subplot: Neutral sentiment scores vs. Star ratings\n",
    "sns.barplot(data=vaders, x='Star', y='neu', ax=axs[2])\n",
    "axs[2].set_title('Neutral')\n",
    "\n",
    "# Set the titles for each subplot\n",
    "axs[0].set_title('Positive')\n",
    "axs[1].set_title('Negative')\n",
    "axs[2].set_title('Neutral')\n",
    "\n",
    "# Adjust the layout to prevent overlapping of plot elements\n",
    "plt.tight_layout()\n",
    "\n",
    "# Display the plots\n",
    "plt.show()\n"
   ]
  },
  {
   "cell_type": "markdown",
   "metadata": {},
   "source": [
    "# Correlation"
   ]
  },
  {
   "cell_type": "code",
   "execution_count": 12,
   "metadata": {},
   "outputs": [],
   "source": [
    "def correlation(x, y):\n",
    "    # Calculate the correlation coefficient between 'x' and 'y'\n",
    "    correlation = np.corrcoef(x, y)[0, 1]\n",
    "\n",
    "    # Create a scatter plot of 'x' and 'y'\n",
    "    plt.scatter(x, y)\n",
    "\n",
    "    # Set the title of the plot to include the correlation coefficient\n",
    "    plt.title(f'Correlation: {correlation:.2f}')\n",
    "\n",
    "    # Label the axes\n",
    "    plt.xlabel('x')\n",
    "    plt.ylabel('y')\n",
    "\n",
    "    # Display the plot\n",
    "    plt.show()\n",
    "\n",
    "    # Return the correlation coefficient\n",
    "    return correlation\n",
    "\n"
   ]
  },
  {
   "cell_type": "code",
   "execution_count": 13,
   "metadata": {},
   "outputs": [
    {
     "name": "stdout",
     "output_type": "stream",
     "text": [
      "Id            int64\n",
      "neg         float64\n",
      "neu         float64\n",
      "pos         float64\n",
      "compound    float64\n",
      "Star         object\n",
      "Review       object\n",
      "Comment      object\n",
      "dtype: object\n"
     ]
    }
   ],
   "source": [
    "print(vaders.dtypes)"
   ]
  },
  {
   "cell_type": "code",
   "execution_count": 14,
   "metadata": {},
   "outputs": [],
   "source": [
    "vaders['Star'] = vaders['Star'].astype('float64') #changing the dataTypes from obj to the #float64 as obj is not allowed for following visualisation"
   ]
  },
  {
   "cell_type": "code",
   "execution_count": 15,
   "metadata": {},
   "outputs": [],
   "source": [
    "compound = vaders['compound'].tolist()"
   ]
  },
  {
   "cell_type": "code",
   "execution_count": 16,
   "metadata": {},
   "outputs": [],
   "source": [
    "star = vaders['Star'].tolist()"
   ]
  },
  {
   "cell_type": "code",
   "execution_count": 17,
   "metadata": {},
   "outputs": [
    {
     "data": {
      "image/png": "[encoded data removed]",
      "text/plain": [
       "<Figure size 640x480 with 1 Axes>"
      ]
     },
     "metadata": {},
     "output_type": "display_data"
    },
    {
     "data": {
      "text/plain": [
       "0.2153106783020806"
      ]
     },
     "execution_count": 17,
     "metadata": {},
     "output_type": "execute_result"
    }
   ],
   "source": [
    "correlation(star, compound)"
   ]
  },
  {
   "cell_type": "markdown",
   "metadata": {},
   "source": [
    "The correlation coefficient between variables star and compound is 0.22, indicating a weak positive linear relationship. As star increases, compound tends to increase slightly, but the association is not strong. Correlation does not imply causation, and other analysis methods may be needed to fully understand the relationship. Visualizations and domain-specific knowledge can provide additional insights."
   ]
  },
  {
   "cell_type": "markdown",
   "metadata": {},
   "source": []
  }
 ],
 "metadata": {
  "kernelspec": {
   "display_name": "Python 3",
   "language": "python",
   "name": "python3"
  },
  "language_info": {
   "codemirror_mode": {
    "name": "ipython",
    "version": 3
   },
   "file_extension": ".py",
   "mimetype": "text/x-python",
   "name": "python",
   "nbconvert_exporter": "python",
   "pygments_lexer": "ipython3",
   "version": "3.11.4"
  },
  "orig_nbformat": 4
 },
 "nbformat": 4,
 "nbformat_minor": 2
}
